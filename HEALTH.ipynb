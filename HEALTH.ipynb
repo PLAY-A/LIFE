{
 "cells": [
  {
   "cell_type": "code",
   "execution_count": 20,
   "id": "006e38c4",
   "metadata": {},
   "outputs": [],
   "source": [
    "from tensorflow.keras.applications.densenet import DenseNet121\n",
    "from tensorflow.keras.preprocessing import image\n",
    "from tensorflow.keras.applications.densenet import preprocess_input, decode_predictions\n",
    "import numpy as np\n",
    "import tkinter\n",
    "\n",
    "# model = DenseNet121(weights='imagenet')  \n",
    "model = model.pkl"
   ]
  },
  {
   "cell_type": "code",
   "execution_count": 9,
   "id": "b8309b67",
   "metadata": {},
   "outputs": [
    {
     "name": "stdout",
     "output_type": "stream",
     "text": [
      "1/1 [==============================] - 1s 1s/step\n"
     ]
    }
   ],
   "source": [
    "img_path = 'belgian.png'\n",
    "img = image.load_img(img_path, target_size=(224, 224))\n",
    "img_array = image.img_to_array(img)\n",
    "img_expanded = np.expand_dims(img_array, axis=0)\n",
    "img_processed = preprocess_input(img_expanded)\n",
    "\n",
    "preds = model.predict(img_processed)\n",
    "results = decode_predictions(preds, top=1)[0]"
   ]
  },
  {
   "cell_type": "code",
   "execution_count": 13,
   "id": "9ec4f0eb",
   "metadata": {},
   "outputs": [],
   "source": [
    "app = tkinter.Tk()\n",
    "\n",
    "app.geometry(\"900x905\")\n",
    "\n",
    "app.title(\"Image Classifier\")\n",
    "\n",
    "upload = tkinter.Button(text=\"Upload\")\n",
    "\n",
    "upload.place(relx=0.5, rely=0.5, anchor='center')\n",
    "\n",
    "app.mainloop()"
   ]
  },
  {
   "cell_type": "code",
   "execution_count": 1,
   "id": "7fdd14f4",
   "metadata": {},
   "outputs": [],
   "source": [
    "import numpy\n",
    "import tkinter \n",
    "from tkinter import filedialog\n",
    "from tensorflow.keras.applications.densenet import DenseNet121\n",
    "from tensorflow.keras.preprocessing import image\n",
    "from tensorflow.keras.applications.densenet import  preprocess_input,decode_predictions\n",
    "\n",
    "model = DenseNet121(weights='imagenet')\n",
    "\n",
    "app = tkinter.Tk()\n",
    "app.geometry(\"500x505\")\n",
    "app.title(\"Image Classifier\")\n",
    "\n",
    "def getImage():\n",
    "    path = filedialog.askopenfilename()\n",
    "    return path\n",
    "\n",
    "def preprocess(path):\n",
    "    img = image.load_img(path, target_size=(224, 224))\n",
    "    img_array = image.img_to_array(img)\n",
    "    img_expanded = numpy.expand_dims(img_array, axis=0)\n",
    "    img_processed = preprocess_input(img_expanded)\n",
    "    return img_processed\n",
    "\n",
    "def classify(processed_img):\n",
    "    preds = model.predict(processed_img)\n",
    "    results = decode_predictions(preds, top=5)[0]\n",
    "    return results\n",
    "\n",
    "def image_prediction():\n",
    "    path = getImage()\n",
    "    input_img = preprocess(path)\n",
    "    results = classify(input_img)\n",
    "    result_label.config(text=\"\")\n",
    "    result_label.config(text=results[0][1] + \": \" + str(results[0][2]))\n",
    "\n",
    "upload_button = tkinter.Button(text=\"Upload\", command=image_prediction)\n",
    "upload_button.place(relx=0.5, rely=0.5, anchor='center')\n",
    "\n",
    "result_label = tkinter.Label(text=\"\")\n",
    "result_label.place(relx=0.5, rely=0.6, anchor='center')\n",
    "\n",
    "app.mainloop()"
   ]
  },
  {
   "cell_type": "code",
   "execution_count": null,
   "id": "20c6d32c",
   "metadata": {},
   "outputs": [],
   "source": []
  }
 ],
 "metadata": {
  "kernelspec": {
   "display_name": "Python 3 (ipykernel)",
   "language": "python",
   "name": "python3"
  },
  "language_info": {
   "codemirror_mode": {
    "name": "ipython",
    "version": 3
   },
   "file_extension": ".py",
   "mimetype": "text/x-python",
   "name": "python",
   "nbconvert_exporter": "python",
   "pygments_lexer": "ipython3",
   "version": "3.9.12"
  }
 },
 "nbformat": 4,
 "nbformat_minor": 5
}
